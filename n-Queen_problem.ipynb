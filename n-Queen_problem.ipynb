{
 "cells": [
  {
   "cell_type": "code",
   "execution_count": 1,
   "id": "e5f2e0ff",
   "metadata": {},
   "outputs": [],
   "source": [
    "import random\n",
    "import numpy as np\n",
    "from heapq import *"
   ]
  },
  {
   "cell_type": "code",
   "execution_count": 3,
   "id": "fcef2554",
   "metadata": {},
   "outputs": [
    {
     "name": "stdout",
     "output_type": "stream",
     "text": [
      "enter n:8\n"
     ]
    }
   ],
   "source": [
    "n=int(input('enter n:'))"
   ]
  },
  {
   "cell_type": "code",
   "execution_count": 4,
   "id": "d0532843",
   "metadata": {},
   "outputs": [],
   "source": [
    "def CreateFirstMatrix():\n",
    "    Matrix = np.zeros((n,n), dtype=int)\n",
    "    for row in range(n):\n",
    "        rand=random.randint(0,(n-1))\n",
    "        for col in range(n):\n",
    "            Matrix[row][col]=0 \n",
    "        Matrix[row][rand]=1\n",
    "    return Matrix"
   ]
  },
  {
   "cell_type": "code",
   "execution_count": 5,
   "id": "a98c7f1d",
   "metadata": {},
   "outputs": [],
   "source": [
    "Matrix=CreateFirstMatrix()\n"
   ]
  },
  {
   "cell_type": "code",
   "execution_count": 6,
   "id": "082f8096",
   "metadata": {},
   "outputs": [],
   "source": [
    "def CaculateHeuristic(Matrix):\n",
    "    SumAll=0\n",
    "    SumRows=CaculateRows(Matrix)\n",
    "    SumCols=CaculateCols(Matrix)\n",
    "    SumDiagnoleRightRows=CaculateDiagnoleRightRows(Matrix)\n",
    "    SumDiagnoleLefttRows=CaculateDiagnoleLeftRows(Matrix)\n",
    "    SumDiagnoleRightCols=CaculateDiagnoleRightCols(Matrix)\n",
    "    SumDiagnoleLeftCols=CaculateDiagnoleLeftCols(Matrix)\n",
    "\n",
    "    SumAll=SumRows+SumCols+SumDiagnoleRightRows+SumDiagnoleLefttRows+SumDiagnoleRightCols+SumDiagnoleLeftCols\n",
    "    return SumAll\n",
    "        "
   ]
  },
  {
   "cell_type": "code",
   "execution_count": 7,
   "id": "77cabcc5",
   "metadata": {},
   "outputs": [],
   "source": [
    "def CaculateRows(Matrix):\n",
    "    Sum=0\n",
    "    for i in range(n):\n",
    "        Queen=0\n",
    "        for j in range(n):\n",
    "            if Matrix[i][j]==1:\n",
    "                Queen=Queen+1\n",
    "        if Queen>=1:\n",
    "            Sum=Sum+((Queen*(Queen-1))//2)\n",
    "    return Sum"
   ]
  },
  {
   "cell_type": "code",
   "execution_count": 8,
   "id": "1dd37709",
   "metadata": {},
   "outputs": [],
   "source": [
    "def CaculateCols(Matrix):\n",
    "    Sum=0\n",
    "    for j in range(n):\n",
    "        Queen=0\n",
    "        for i in range(n):\n",
    "            if Matrix[i][j]==1:\n",
    "                Queen=Queen+1\n",
    "        if Queen>=1:\n",
    "            Sum=Sum+((Queen*(Queen-1))//2)\n",
    "    return Sum"
   ]
  },
  {
   "cell_type": "code",
   "execution_count": 9,
   "id": "ac483de0",
   "metadata": {},
   "outputs": [],
   "source": [
    "def CaculateDiagnoleRightRows(Matrix):\n",
    "    Sum=0\n",
    "    for col in range(n):\n",
    "        Queen=0\n",
    "        j=col\n",
    "        for i in range(n):\n",
    "            if j>(n-1) :\n",
    "                break\n",
    "            if Matrix[i][j]==1:\n",
    "                Queen=Queen+1\n",
    "            j=j+1\n",
    "        if Queen>=1:\n",
    "            Sum=Sum+((Queen*(Queen-1))//2)\n",
    "    return Sum"
   ]
  },
  {
   "cell_type": "code",
   "execution_count": 10,
   "id": "073fa689",
   "metadata": {},
   "outputs": [],
   "source": [
    "def CaculateDiagnoleLeftRows(Matrix):\n",
    "    Sum=0\n",
    "    for col in range((n-1),-1,-1):\n",
    "        Queen=0\n",
    "        j=col\n",
    "        for i in range(n):\n",
    "            if j<0:\n",
    "                break\n",
    "            if Matrix[i][j]==1:\n",
    "                Queen=Queen+1\n",
    "            j=j-1\n",
    "        if Queen>=1:\n",
    "            Sum=Sum+((Queen*(Queen-1))//2)\n",
    "    return Sum"
   ]
  },
  {
   "cell_type": "code",
   "execution_count": 11,
   "id": "1168e284",
   "metadata": {},
   "outputs": [],
   "source": [
    "def CaculateDiagnoleRightCols(Matrix):\n",
    "    Sum=0\n",
    "    for row  in range(1,n,1):\n",
    "        Queen=0\n",
    "        i=row\n",
    "        for j in range(n):\n",
    "            if i>(n-1) :\n",
    "                break\n",
    "            if Matrix[i][j]==1:\n",
    "                Queen=Queen+1\n",
    "            i=i+1\n",
    "        if Queen>=1:\n",
    "            Sum=Sum+((Queen*(Queen-1))//2)\n",
    "    return Sum\n",
    "    "
   ]
  },
  {
   "cell_type": "code",
   "execution_count": 12,
   "id": "7eb64294",
   "metadata": {},
   "outputs": [],
   "source": [
    "def CaculateDiagnoleLeftCols(Matrix):\n",
    "    Sum=0\n",
    "    for row  in range(1,n,1):\n",
    "        Queen=0\n",
    "        i=row\n",
    "        for j in range((n-1),-1,-1):\n",
    "            if i>(n-1) :\n",
    "                break\n",
    "            if Matrix[i][j]==1:\n",
    "                Queen=Queen+1\n",
    "            i=i+1\n",
    "        if Queen>=1:\n",
    "            Sum=Sum+((Queen*(Queen-1))//2)\n",
    "    return Sum"
   ]
  },
  {
   "cell_type": "code",
   "execution_count": 13,
   "id": "3d6678a7",
   "metadata": {},
   "outputs": [],
   "source": [
    "h=[]\n",
    "Dict={}\n",
    "SeenMatrixes=[]\n",
    "def Search(Matrix):\n",
    "    #for any rows we find out place of queen\n",
    "    for row in range(n):\n",
    "        OldCol=0\n",
    "        #find out last place of queen\n",
    "        for i in range(n):\n",
    "            if Matrix[row][i]==1:\n",
    "                OldCol=i\n",
    "                break\n",
    "        #########################\n",
    "        #caculate heuristic for cols before oldcol \n",
    "        col=(OldCol+1)\n",
    "        while col<n:\n",
    "            CopyMatrix = Matrix.copy()\n",
    "            for i in range(n):\n",
    "                CopyMatrix[row][i]=0  \n",
    "            CopyMatrix[row][col]=1\n",
    "            col=(col+1)\n",
    "            Heuristic=CaculateHeuristic(CopyMatrix)\n",
    "            Key=hash(str(CopyMatrix))\n",
    "            Dict[Key]=CopyMatrix\n",
    "            heappush(h, (Heuristic, hash(str(CopyMatrix))))\n",
    "\n",
    "        #caculate heuristic for cols after oldcol\n",
    "        col=(OldCol-1)\n",
    "        while col>=0:\n",
    "            CopyMatrix = Matrix.copy()\n",
    "            for i in range(n):\n",
    "                CopyMatrix[row][i]=0  \n",
    "            CopyMatrix[row][col]=1\n",
    "            col=(col-1)\n",
    "            Heuristic=CaculateHeuristic(CopyMatrix)\n",
    "            Key=hash(str(CopyMatrix))\n",
    "            Dict[Key]=CopyMatrix\n",
    "            heappush(h, (Heuristic,Key))\n",
    "        \n",
    "    Ans=heappop(h) \n",
    "    Key=Ans[1]\n",
    "    while Key in SeenMatrixes:\n",
    "        Ans=heappop(h)\n",
    "        Key=Ans[1]\n",
    "        \n",
    "    SeenMatrixes.append(Key)\n",
    "    Heuristic=Ans[0]\n",
    "    NewMatrix=Dict[Key]\n",
    "    if Heuristic==0:\n",
    "        print(f'Heuristice : {Heuristic}')\n",
    "        PrintMatrix(NewMatrix)\n",
    "    else:\n",
    "        print(f'Heuristic : {Heuristic}')\n",
    "        PrintMatrix(NewMatrix)\n",
    "        Search(NewMatrix)      "
   ]
  },
  {
   "cell_type": "code",
   "execution_count": 14,
   "id": "5a0c2700",
   "metadata": {},
   "outputs": [],
   "source": [
    "def PrintMatrix(Matrix):\n",
    "    for i in Matrix:\n",
    "        print(i)"
   ]
  },
  {
   "cell_type": "code",
   "execution_count": 15,
   "id": "cd3e900a",
   "metadata": {},
   "outputs": [
    {
     "name": "stdout",
     "output_type": "stream",
     "text": [
      "Heuristic : 4\n",
      "[0 0 0 0 0 0 0 1]\n",
      "[0 0 0 0 0 0 0 1]\n",
      "[0 0 1 0 0 0 0 0]\n",
      "[1 0 0 0 0 0 0 0]\n",
      "[0 0 0 0 0 1 0 0]\n",
      "[0 1 0 0 0 0 0 0]\n",
      "[0 1 0 0 0 0 0 0]\n",
      "[0 0 0 0 0 1 0 0]\n",
      "Heuristic : 3\n",
      "[0 0 0 0 1 0 0 0]\n",
      "[0 0 0 0 0 0 0 1]\n",
      "[0 0 1 0 0 0 0 0]\n",
      "[1 0 0 0 0 0 0 0]\n",
      "[0 0 0 0 0 1 0 0]\n",
      "[0 1 0 0 0 0 0 0]\n",
      "[0 1 0 0 0 0 0 0]\n",
      "[0 0 0 0 0 1 0 0]\n",
      "Heuristic : 2\n",
      "[0 0 0 0 1 0 0 0]\n",
      "[0 0 0 0 0 0 0 1]\n",
      "[0 0 1 0 0 0 0 0]\n",
      "[1 0 0 0 0 0 0 0]\n",
      "[0 0 0 0 0 0 1 0]\n",
      "[0 1 0 0 0 0 0 0]\n",
      "[0 1 0 0 0 0 0 0]\n",
      "[0 0 0 0 0 1 0 0]\n",
      "Heuristic : 1\n",
      "[0 0 0 0 1 0 0 0]\n",
      "[0 0 0 0 0 0 0 1]\n",
      "[0 0 0 1 0 0 0 0]\n",
      "[1 0 0 0 0 0 0 0]\n",
      "[0 0 0 0 0 0 1 0]\n",
      "[0 1 0 0 0 0 0 0]\n",
      "[0 1 0 0 0 0 0 0]\n",
      "[0 0 0 0 0 1 0 0]\n",
      "Heuristic : 1\n",
      "[0 0 0 0 1 0 0 0]\n",
      "[0 0 0 0 0 0 0 1]\n",
      "[0 0 0 1 0 0 0 0]\n",
      "[1 0 0 0 0 0 0 0]\n",
      "[0 0 0 0 0 0 1 0]\n",
      "[0 0 0 0 1 0 0 0]\n",
      "[0 1 0 0 0 0 0 0]\n",
      "[0 0 0 0 0 1 0 0]\n",
      "Heuristic : 1\n",
      "[0 0 0 0 1 0 0 0]\n",
      "[0 0 0 0 0 0 0 1]\n",
      "[0 0 0 1 0 0 0 0]\n",
      "[1 0 0 0 0 0 0 0]\n",
      "[0 0 0 0 0 0 1 0]\n",
      "[0 1 0 0 0 0 0 0]\n",
      "[0 0 0 0 0 1 0 0]\n",
      "[0 0 0 0 0 1 0 0]\n",
      "Heuristice : 0\n",
      "[0 0 0 0 1 0 0 0]\n",
      "[0 0 0 0 0 0 0 1]\n",
      "[0 0 0 1 0 0 0 0]\n",
      "[1 0 0 0 0 0 0 0]\n",
      "[0 0 0 0 0 0 1 0]\n",
      "[0 1 0 0 0 0 0 0]\n",
      "[0 0 0 0 0 1 0 0]\n",
      "[0 0 1 0 0 0 0 0]\n"
     ]
    }
   ],
   "source": [
    "Search(Matrix)"
   ]
  }
 ],
 "metadata": {
  "kernelspec": {
   "display_name": "Python 3 (ipykernel)",
   "language": "python",
   "name": "python3"
  },
  "language_info": {
   "codemirror_mode": {
    "name": "ipython",
    "version": 3
   },
   "file_extension": ".py",
   "mimetype": "text/x-python",
   "name": "python",
   "nbconvert_exporter": "python",
   "pygments_lexer": "ipython3",
   "version": "3.9.13"
  }
 },
 "nbformat": 4,
 "nbformat_minor": 5
}
